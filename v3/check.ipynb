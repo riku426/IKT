{
 "cells": [
  {
   "cell_type": "code",
   "execution_count": 61,
   "metadata": {},
   "outputs": [
    {
     "data": {
      "text/html": [
       "<div>\n",
       "<style scoped>\n",
       "    .dataframe tbody tr th:only-of-type {\n",
       "        vertical-align: middle;\n",
       "    }\n",
       "\n",
       "    .dataframe tbody tr th {\n",
       "        vertical-align: top;\n",
       "    }\n",
       "\n",
       "    .dataframe thead th {\n",
       "        text-align: right;\n",
       "    }\n",
       "</style>\n",
       "<table border=\"1\" class=\"dataframe\">\n",
       "  <thead>\n",
       "    <tr style=\"text-align: right;\">\n",
       "      <th></th>\n",
       "      <th>Unnamed: 0</th>\n",
       "      <th>student_id</th>\n",
       "      <th>skill_id</th>\n",
       "      <th>skill_mastery</th>\n",
       "      <th>ability_profile</th>\n",
       "      <th>problem_difficulty</th>\n",
       "      <th>problem_alpha</th>\n",
       "      <th>correctness</th>\n",
       "    </tr>\n",
       "  </thead>\n",
       "  <tbody>\n",
       "    <tr>\n",
       "      <th>0</th>\n",
       "      <td>0</td>\n",
       "      <td>2</td>\n",
       "      <td>83</td>\n",
       "      <td>0.563882</td>\n",
       "      <td>0</td>\n",
       "      <td>1.281928</td>\n",
       "      <td>0.825713</td>\n",
       "      <td>1</td>\n",
       "    </tr>\n",
       "    <tr>\n",
       "      <th>1</th>\n",
       "      <td>1</td>\n",
       "      <td>2</td>\n",
       "      <td>82</td>\n",
       "      <td>0.742560</td>\n",
       "      <td>0</td>\n",
       "      <td>0.288214</td>\n",
       "      <td>2.000000</td>\n",
       "      <td>1</td>\n",
       "    </tr>\n",
       "    <tr>\n",
       "      <th>2</th>\n",
       "      <td>2</td>\n",
       "      <td>2</td>\n",
       "      <td>82</td>\n",
       "      <td>0.844854</td>\n",
       "      <td>0</td>\n",
       "      <td>1.941272</td>\n",
       "      <td>0.250000</td>\n",
       "      <td>1</td>\n",
       "    </tr>\n",
       "    <tr>\n",
       "      <th>3</th>\n",
       "      <td>3</td>\n",
       "      <td>2</td>\n",
       "      <td>37</td>\n",
       "      <td>0.606742</td>\n",
       "      <td>0</td>\n",
       "      <td>-1.866635</td>\n",
       "      <td>2.000000</td>\n",
       "      <td>0</td>\n",
       "    </tr>\n",
       "    <tr>\n",
       "      <th>4</th>\n",
       "      <td>4</td>\n",
       "      <td>2</td>\n",
       "      <td>37</td>\n",
       "      <td>0.608723</td>\n",
       "      <td>0</td>\n",
       "      <td>2.000000</td>\n",
       "      <td>0.836878</td>\n",
       "      <td>1</td>\n",
       "    </tr>\n",
       "  </tbody>\n",
       "</table>\n",
       "</div>"
      ],
      "text/plain": [
       "   Unnamed: 0  student_id  skill_id  skill_mastery  ability_profile  \\\n",
       "0           0           2        83       0.563882                0   \n",
       "1           1           2        82       0.742560                0   \n",
       "2           2           2        82       0.844854                0   \n",
       "3           3           2        37       0.606742                0   \n",
       "4           4           2        37       0.608723                0   \n",
       "\n",
       "   problem_difficulty  problem_alpha  correctness  \n",
       "0            1.281928       0.825713            1  \n",
       "1            0.288214       2.000000            1  \n",
       "2            1.941272       0.250000            1  \n",
       "3           -1.866635       2.000000            0  \n",
       "4            2.000000       0.836878            1  "
      ]
     },
     "execution_count": 61,
     "metadata": {},
     "output_type": "execute_result"
    }
   ],
   "source": [
    "import pandas as pd\n",
    "\n",
    "train = pd.read_csv('../train_data_v2.csv')\n",
    "test = pd.read_csv('../test_data_v2.csv')\n",
    "train.head()"
   ]
  },
  {
   "cell_type": "code",
   "execution_count": 62,
   "metadata": {},
   "outputs": [
    {
     "data": {
      "text/html": [
       "<div>\n",
       "<style scoped>\n",
       "    .dataframe tbody tr th:only-of-type {\n",
       "        vertical-align: middle;\n",
       "    }\n",
       "\n",
       "    .dataframe tbody tr th {\n",
       "        vertical-align: top;\n",
       "    }\n",
       "\n",
       "    .dataframe thead th {\n",
       "        text-align: right;\n",
       "    }\n",
       "</style>\n",
       "<table border=\"1\" class=\"dataframe\">\n",
       "  <thead>\n",
       "    <tr style=\"text-align: right;\">\n",
       "      <th></th>\n",
       "      <th>Unnamed: 0</th>\n",
       "      <th>student_id</th>\n",
       "      <th>skill_id</th>\n",
       "      <th>skill_mastery</th>\n",
       "      <th>ability_profile</th>\n",
       "      <th>problem_difficulty</th>\n",
       "      <th>problem_alpha</th>\n",
       "      <th>correctness</th>\n",
       "    </tr>\n",
       "  </thead>\n",
       "  <tbody>\n",
       "    <tr>\n",
       "      <th>525</th>\n",
       "      <td>525</td>\n",
       "      <td>1</td>\n",
       "      <td>38</td>\n",
       "      <td>0.788669</td>\n",
       "      <td>0</td>\n",
       "      <td>1.013509</td>\n",
       "      <td>0.250000</td>\n",
       "      <td>1</td>\n",
       "    </tr>\n",
       "    <tr>\n",
       "      <th>526</th>\n",
       "      <td>526</td>\n",
       "      <td>1</td>\n",
       "      <td>81</td>\n",
       "      <td>0.552147</td>\n",
       "      <td>0</td>\n",
       "      <td>-1.019270</td>\n",
       "      <td>1.024539</td>\n",
       "      <td>0</td>\n",
       "    </tr>\n",
       "    <tr>\n",
       "      <th>527</th>\n",
       "      <td>527</td>\n",
       "      <td>1</td>\n",
       "      <td>81</td>\n",
       "      <td>0.103216</td>\n",
       "      <td>0</td>\n",
       "      <td>-0.968805</td>\n",
       "      <td>0.250000</td>\n",
       "      <td>1</td>\n",
       "    </tr>\n",
       "    <tr>\n",
       "      <th>528</th>\n",
       "      <td>528</td>\n",
       "      <td>1</td>\n",
       "      <td>81</td>\n",
       "      <td>0.268809</td>\n",
       "      <td>0</td>\n",
       "      <td>0.344512</td>\n",
       "      <td>0.990410</td>\n",
       "      <td>1</td>\n",
       "    </tr>\n",
       "    <tr>\n",
       "      <th>529</th>\n",
       "      <td>529</td>\n",
       "      <td>1</td>\n",
       "      <td>81</td>\n",
       "      <td>0.481265</td>\n",
       "      <td>0</td>\n",
       "      <td>1.544376</td>\n",
       "      <td>2.000000</td>\n",
       "      <td>1</td>\n",
       "    </tr>\n",
       "    <tr>\n",
       "      <th>...</th>\n",
       "      <td>...</td>\n",
       "      <td>...</td>\n",
       "      <td>...</td>\n",
       "      <td>...</td>\n",
       "      <td>...</td>\n",
       "      <td>...</td>\n",
       "      <td>...</td>\n",
       "      <td>...</td>\n",
       "    </tr>\n",
       "    <tr>\n",
       "      <th>707</th>\n",
       "      <td>707</td>\n",
       "      <td>1</td>\n",
       "      <td>50</td>\n",
       "      <td>0.103945</td>\n",
       "      <td>4</td>\n",
       "      <td>-0.643387</td>\n",
       "      <td>0.520158</td>\n",
       "      <td>0</td>\n",
       "    </tr>\n",
       "    <tr>\n",
       "      <th>708</th>\n",
       "      <td>708</td>\n",
       "      <td>1</td>\n",
       "      <td>50</td>\n",
       "      <td>0.101209</td>\n",
       "      <td>4</td>\n",
       "      <td>0.583973</td>\n",
       "      <td>0.250000</td>\n",
       "      <td>1</td>\n",
       "    </tr>\n",
       "    <tr>\n",
       "      <th>709</th>\n",
       "      <td>709</td>\n",
       "      <td>1</td>\n",
       "      <td>50</td>\n",
       "      <td>0.265845</td>\n",
       "      <td>4</td>\n",
       "      <td>-0.327092</td>\n",
       "      <td>0.816090</td>\n",
       "      <td>1</td>\n",
       "    </tr>\n",
       "    <tr>\n",
       "      <th>710</th>\n",
       "      <td>710</td>\n",
       "      <td>1</td>\n",
       "      <td>50</td>\n",
       "      <td>0.477948</td>\n",
       "      <td>4</td>\n",
       "      <td>0.129610</td>\n",
       "      <td>1.496349</td>\n",
       "      <td>0</td>\n",
       "    </tr>\n",
       "    <tr>\n",
       "      <th>711</th>\n",
       "      <td>711</td>\n",
       "      <td>1</td>\n",
       "      <td>49</td>\n",
       "      <td>0.385714</td>\n",
       "      <td>4</td>\n",
       "      <td>0.506568</td>\n",
       "      <td>0.426836</td>\n",
       "      <td>0</td>\n",
       "    </tr>\n",
       "  </tbody>\n",
       "</table>\n",
       "<p>187 rows × 8 columns</p>\n",
       "</div>"
      ],
      "text/plain": [
       "     Unnamed: 0  student_id  skill_id  skill_mastery  ability_profile  \\\n",
       "525         525           1        38       0.788669                0   \n",
       "526         526           1        81       0.552147                0   \n",
       "527         527           1        81       0.103216                0   \n",
       "528         528           1        81       0.268809                0   \n",
       "529         529           1        81       0.481265                0   \n",
       "..          ...         ...       ...            ...              ...   \n",
       "707         707           1        50       0.103945                4   \n",
       "708         708           1        50       0.101209                4   \n",
       "709         709           1        50       0.265845                4   \n",
       "710         710           1        50       0.477948                4   \n",
       "711         711           1        49       0.385714                4   \n",
       "\n",
       "     problem_difficulty  problem_alpha  correctness  \n",
       "525            1.013509       0.250000            1  \n",
       "526           -1.019270       1.024539            0  \n",
       "527           -0.968805       0.250000            1  \n",
       "528            0.344512       0.990410            1  \n",
       "529            1.544376       2.000000            1  \n",
       "..                  ...            ...          ...  \n",
       "707           -0.643387       0.520158            0  \n",
       "708            0.583973       0.250000            1  \n",
       "709           -0.327092       0.816090            1  \n",
       "710            0.129610       1.496349            0  \n",
       "711            0.506568       0.426836            0  \n",
       "\n",
       "[187 rows x 8 columns]"
      ]
     },
     "execution_count": 62,
     "metadata": {},
     "output_type": "execute_result"
    }
   ],
   "source": [
    "test[test['student_id'] == 1]"
   ]
  },
  {
   "cell_type": "code",
   "execution_count": 63,
   "metadata": {},
   "outputs": [
    {
     "name": "stdout",
     "output_type": "stream",
     "text": [
      "739\n"
     ]
    }
   ],
   "source": [
    "from collections import defaultdict\n",
    "D = defaultdict(int)\n",
    "students = test['student_id'].unique().tolist()\n",
    "for s in students:\n",
    "  D[s] = len(test[test['student_id'] == s])\n",
    "print(max(D.values()))"
   ]
  },
  {
   "cell_type": "code",
   "execution_count": 64,
   "metadata": {},
   "outputs": [
    {
     "name": "stdout",
     "output_type": "stream",
     "text": [
      "404\n"
     ]
    }
   ],
   "source": [
    "print(len(students))"
   ]
  },
  {
   "cell_type": "code",
   "execution_count": 65,
   "metadata": {},
   "outputs": [
    {
     "data": {
      "text/plain": [
       "[<matplotlib.lines.Line2D at 0x15a467f40>]"
      ]
     },
     "execution_count": 65,
     "metadata": {},
     "output_type": "execute_result"
    },
    {
     "data": {
      "image/png": "[encoded data removed]",
      "text/plain": [
       "<Figure size 640x480 with 1 Axes>"
      ]
     },
     "metadata": {},
     "output_type": "display_data"
    }
   ],
   "source": [
    "import matplotlib.pyplot as plt\n",
    "y = train[(train['student_id'] == 2) & (train['skill_id'] == 40)]['skill_mastery'].tolist()\n",
    "x = list(range(len(y)))\n",
    "plt.plot(x, y)"
   ]
  },
  {
   "cell_type": "code",
   "execution_count": 66,
   "metadata": {},
   "outputs": [
    {
     "name": "stdout",
     "output_type": "stream",
     "text": [
      "good\n"
     ]
    }
   ],
   "source": [
    "correct = test['correctness'].tolist()\n",
    "save_truth = pd.read_csv('../../KnowledgeTracing/dataset/save_truth.csv', header=None, names=['correctness'])\n",
    "save_pred = pd.read_csv('../../KnowledgeTracing/dataset/save_pred.csv', header=None, names=['pred'])\n",
    "truth = save_truth['correctness'].tolist()\n",
    "pred = save_pred['pred'].tolist()\n",
    "\n",
    "if correct == truth:\n",
    "  print('good')\n",
    "else:\n",
    "  print('different')"
   ]
  },
  {
   "cell_type": "code",
   "execution_count": 67,
   "metadata": {},
   "outputs": [],
   "source": [
    "train = train.drop(['Unnamed: 0'], axis=1)\n",
    "test = test.drop(['Unnamed: 0'], axis=1)"
   ]
  },
  {
   "cell_type": "code",
   "execution_count": 68,
   "metadata": {},
   "outputs": [],
   "source": [
    "test['dkt'] = pred\n",
    "test.to_csv('check.csv')"
   ]
  },
  {
   "cell_type": "code",
   "execution_count": 69,
   "metadata": {},
   "outputs": [
    {
     "data": {
      "text/plain": [
       "0    7775\n",
       "1    4360\n",
       "Name: correctness, dtype: int64"
      ]
     },
     "execution_count": 69,
     "metadata": {},
     "output_type": "execute_result"
    }
   ],
   "source": [
    "test[test['dkt'] < 0.5]['correctness'].value_counts()"
   ]
  },
  {
   "cell_type": "code",
   "execution_count": 70,
   "metadata": {},
   "outputs": [
    {
     "name": "stdout",
     "output_type": "stream",
     "text": [
      "good\n"
     ]
    }
   ],
   "source": [
    "correct = train['correctness'].tolist()\n",
    "save_truth = pd.read_csv('../../KnowledgeTracing/dataset/train_save_truth.csv', header=None, names=['correctness'])\n",
    "save_pred = pd.read_csv('../../KnowledgeTracing/dataset/train_save_pred.csv', header=None, names=['pred'])\n",
    "truth = save_truth['correctness'].tolist()\n",
    "pred = save_pred['pred'].tolist()\n",
    "\n",
    "if correct == truth:\n",
    "  print('good')\n",
    "else:\n",
    "  print('different')"
   ]
  },
  {
   "cell_type": "code",
   "execution_count": 71,
   "metadata": {},
   "outputs": [],
   "source": [
    "train['dkt'] = pred\n",
    "train.to_csv('../v4/train_data.csv')\n",
    "test.to_csv('../v4/test_data.csv')"
   ]
  },
  {
   "cell_type": "code",
   "execution_count": null,
   "metadata": {},
   "outputs": [],
   "source": []
  },
  {
   "cell_type": "code",
   "execution_count": null,
   "metadata": {},
   "outputs": [],
   "source": []
  }
 ],
 "metadata": {
  "kernelspec": {
   "display_name": "tenso",
   "language": "python",
   "name": "python3"
  },
  "language_info": {
   "codemirror_mode": {
    "name": "ipython",
    "version": 3
   },
   "file_extension": ".py",
   "mimetype": "text/x-python",
   "name": "python",
   "nbconvert_exporter": "python",
   "pygments_lexer": "ipython3",
   "version": "3.8.17"
  },
  "orig_nbformat": 4
 },
 "nbformat": 4,
 "nbformat_minor": 2
}
